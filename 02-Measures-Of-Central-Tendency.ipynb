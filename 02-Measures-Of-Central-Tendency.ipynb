{
 "cells": [
  {
   "cell_type": "markdown",
   "metadata": {},
   "source": [
    "### **Exercise: Exam Scores Analysis**\n",
    "\n",
    "**Objective:** Apply measures of central tendency **(mean, median, and mode)** to analyze student performance in an exam.\n",
    "\n",
    "#### **Step 1: Collect the Data**\n",
    "A professor records the **exam scores** of 55 university students, each exam\n",
    "is composed from 1-5, where 1 is the low note and 5 the max note:\n",
    "\n",
    "```\n",
    "3.13, 4.05, 4.36, 3.01, 3.41, 2.44, 2.55, 3.27, 4.9 , 3.46, 3.36\n",
    "2.91, 3.18, 2.67, 1.55, 1.93, 4.12, 2.41, 4.16, 4.29, 3.98, 2.28\n",
    "3.03, 2.69, 4.6 , 4.51, 1.39, 3.51, 3.52, 4.12, 4.9 , 3.16, 2.96\n",
    "2.34, 3.81, 1.41, 2.62, 2.76, 4.2 , 4.64, 4.27, 4.16, 3.88, 4.39\n",
    "1.94, 3.42, 2.43, 4.37, 1.24, 3.66, 1.05, 1.38, 2.37, 3.81, 3.78\n",
    "```"
   ]
  },
  {
   "cell_type": "code",
   "execution_count": 1,
   "metadata": {},
   "outputs": [],
   "source": [
    "import numpy as np"
   ]
  },
  {
   "cell_type": "code",
   "execution_count": 2,
   "metadata": {},
   "outputs": [],
   "source": [
    "notes = np.array([3.13, 4.05, 4.36, 3.01, 3.41, 2.44, 2.55, 3.27, 4.9 , 3.46, 3.36,\n",
    "       2.91, 3.18, 2.67, 1.55, 1.93, 4.12, 2.41, 4.16, 4.29, 3.98, 2.28,\n",
    "       3.03, 2.69, 4.6 , 4.51, 1.39, 3.51, 3.52, 4.12, 4.9 , 3.16, 2.96,\n",
    "       2.34, 3.81, 1.41, 2.62, 2.76, 4.2 , 4.64, 4.27, 4.16, 3.88, 4.39,\n",
    "       1.94, 3.42, 2.43, 4.37, 1.24, 3.66, 1.05, 1.38, 2.37, 3.81, 3.78])"
   ]
  },
  {
   "cell_type": "code",
   "execution_count": 3,
   "metadata": {},
   "outputs": [
    {
     "name": "stdout",
     "output_type": "stream",
     "text": [
      "Total Notes: 55\n",
      "Notes type: float64\n"
     ]
    }
   ],
   "source": [
    "total_notes = notes.size\n",
    "print(f'Total Notes: {total_notes}\\nNotes type: {notes.dtype}')"
   ]
  },
  {
   "cell_type": "markdown",
   "metadata": {},
   "source": [
    "\n",
    "### **Step 3: Calculate the Mean (Arithmetic Average)**  \n",
    "The mean is calculated using the formula:  \n",
    "\n",
    "\\[\n",
    "$\\bar{x} = \\frac{\\sum x_i}{n}$\n",
    "\\]\n",
    "\n",
    "Where:  \n",
    "\n",
    "- $\\sum x_i$ is the **sum of all exam scores**.  \n",
    "- $n$ is the **total number of students**.\n",
    "\n",
    "\n",
    "Calculate the mean exam score. "
   ]
  },
  {
   "cell_type": "code",
   "execution_count": 4,
   "metadata": {},
   "outputs": [],
   "source": [
    "def mean(arr:np.array) -> np.float64:\n",
    "    return np.round(arr.sum() / arr.size,3)"
   ]
  },
  {
   "cell_type": "code",
   "execution_count": 5,
   "metadata": {},
   "outputs": [
    {
     "name": "stdout",
     "output_type": "stream",
     "text": [
      "The mean is: 3.232\n"
     ]
    }
   ],
   "source": [
    "notes_mean = mean(notes)\n",
    "print(f'The mean is: {notes_mean}')"
   ]
  },
  {
   "cell_type": "markdown",
   "metadata": {},
   "source": [
    "### **Step 3: Determine the Median (Middle Value)**  \n",
    "To find the **median**, follow these steps:  \n",
    "\n",
    "1. **Sort the exam scores** in ascending order.  \n",
    "2. **Identify the middle value(s)**:  \n",
    "   - If $n$ is **odd**, the median is the middle value.  \n",
    "   - If $n$ is **even**, the median is the **average of the two middle values**.  \n",
    "\n",
    "Identify the median score.  "
   ]
  },
  {
   "cell_type": "code",
   "execution_count": 6,
   "metadata": {},
   "outputs": [],
   "source": [
    "def median(arr:np.array) -> np.float64:\n",
    "    arr.sort()\n",
    "    length = arr.size\n",
    "    isOdd = length % 2 != 0\n",
    "    med = np.mean([arr[length // 2 - 1],arr[length // 2]]) if not isOdd else arr[length // 2]\n",
    "    return med"
   ]
  },
  {
   "cell_type": "code",
   "execution_count": 7,
   "metadata": {},
   "outputs": [
    {
     "name": "stdout",
     "output_type": "stream",
     "text": [
      "The median is: 3.36\n"
     ]
    }
   ],
   "source": [
    "notes_median = median(notes)\n",
    "print(f'The median is: {notes_median}')"
   ]
  },
  {
   "cell_type": "markdown",
   "metadata": {},
   "source": [
    "### **Step 4: Find the Mode (Most Frequent Score)**  \n",
    "The mode is the **most frequently occurring** exam score in the dataset.  \n",
    "\n",
    "1. **Count the frequency of each score.**  \n",
    "2. **Identify the score(s) that appear most often.**  \n",
    "\n",
    "Determine the mode of the exam scores."
   ]
  },
  {
   "cell_type": "code",
   "execution_count": 8,
   "metadata": {},
   "outputs": [],
   "source": [
    "def mode(arr:np.array) -> np.array:\n",
    "    values, counts = np.unique(arr, return_counts=True)\n",
    "    return values[counts == np.max(counts)], counts[counts == np.max(counts)]"
   ]
  },
  {
   "cell_type": "code",
   "execution_count": 9,
   "metadata": {},
   "outputs": [
    {
     "name": "stdout",
     "output_type": "stream",
     "text": [
      "Found 4 modes...\n",
      "3.81: 2\n",
      "4.12: 2\n",
      "4.16: 2\n",
      "4.9: 2\n"
     ]
    }
   ],
   "source": [
    "notes_mode, frequency = mode(notes)\n",
    "if notes_mode.size == 1:\n",
    "    print(f'The mode is {notes_mode[0]} - Frequency : {frequency[0]}')\n",
    "else:\n",
    "    print(f'Found {notes_mode.size} modes...')\n",
    "    for i in range(notes_mode.size):\n",
    "        print(f'{notes_mode[i]}: {frequency[i]}')"
   ]
  },
  {
   "cell_type": "markdown",
   "metadata": {},
   "source": [
    "### **Step 5: Interpretation of Results**  \n",
    "Once the mean, median, and mode are calculated, answer the following:  \n",
    "\n",
    "- **Does the mean represent a typical exam score?**  \n",
    "- **Is the median close to the mean? What does this indicate?**  \n",
    "- **Does the mode provide useful insights? Are students scoring similarly?**  \n",
    "- **Does the data suggest that some students perform significantly better or worse than others?**  "
   ]
  },
  {
   "cell_type": "code",
   "execution_count": 10,
   "metadata": {},
   "outputs": [],
   "source": [
    "import math\n",
    "\n",
    "def sturgers_distribution(total_data:int)->int:\n",
    "    k = 1 + 3.322 * np.log10(total_data)\n",
    "    if int(k) % 2 == 0:\n",
    "        k =  math.ceil(k)\n",
    "    else:\n",
    "        k = math.floor(k)\n",
    "    return k"
   ]
  },
  {
   "cell_type": "code",
   "execution_count": 11,
   "metadata": {},
   "outputs": [],
   "source": [
    "def get_intervals_numpy(min_value, max_value, amplitude) -> np.array:\n",
    "    intervals = np.arange(min_value, max_value, amplitude)\n",
    "    return np.append(intervals, max_value)"
   ]
  },
  {
   "cell_type": "code",
   "execution_count": 12,
   "metadata": {},
   "outputs": [],
   "source": [
    "def abs_frqcy(intervals:np.array, data:np.array):\n",
    "    ocurrencies, edges = np.histogram(data, bins=intervals)\n",
    "    return ocurrencies, edges"
   ]
  },
  {
   "cell_type": "code",
   "execution_count": 13,
   "metadata": {},
   "outputs": [],
   "source": [
    "def mindpoint(edges) -> np.array:\n",
    "    return np.array([np.mean([edges[i], edges[i + 1]]) for i in range(edges.size - 1)])"
   ]
  },
  {
   "cell_type": "code",
   "execution_count": 87,
   "metadata": {},
   "outputs": [],
   "source": [
    "def mindpoints_by_f(mindpoints:np.array, abs_frequency:np.array) -> np.array:\n",
    "    return (mindpoints * abs_frequency)"
   ]
  },
  {
   "cell_type": "code",
   "execution_count": 14,
   "metadata": {},
   "outputs": [],
   "source": [
    "def rel_frqcy(abs_frequency:np.array, total_data:int) -> np.array:\n",
    "    return abs_frequency / total_data"
   ]
  },
  {
   "cell_type": "code",
   "execution_count": 15,
   "metadata": {},
   "outputs": [],
   "source": [
    "def cum_frqcy(abs_frequency:np.array) -> np.array:\n",
    "    return np.cumsum(abs_frequency)"
   ]
  },
  {
   "cell_type": "code",
   "execution_count": 92,
   "metadata": {},
   "outputs": [],
   "source": [
    "def print_frqcy_table(edges, mindpoints, xf, abs_frequency, rel_frequency, cum_frequency):\n",
    "    # Definir encabezados con mayor separación\n",
    "    print(\"{:<38} {:<18} {:<10} {:<10} {:<15} {:<10}\".format(\"INTERVAL\", \"x\", \"f\", \"xf\", \"fr\", \"F\"))\n",
    "    print(\"-\" * 100)  # Separador más ancho\n",
    "    \n",
    "    for i in range(edges.size - 1):\n",
    "        bins = f\"[{edges[i]:.2f}, {edges[i+1]:.2f})\"  # Formato de intervalo\n",
    "        print(\"{:<38} {:<18.3f} {:<10} {:<10.2f} {:<15.4f} {:<10}\".format(\n",
    "            bins, mindpoints[i], abs_frequency[i], xf[i], rel_frequency[i], cum_frequency[i]\n",
    "        ))"
   ]
  },
  {
   "cell_type": "code",
   "execution_count": 80,
   "metadata": {},
   "outputs": [],
   "source": [
    "def get_frequency_table(data:np.array)->None:\n",
    "    max_value = data.max()\n",
    "    min_value = data.min()\n",
    "    r = max_value - min_value\n",
    "    k = sturgers_distribution(data.size)\n",
    "    a = r / k\n",
    "    intervals = get_intervals_numpy(min_value, max_value, a)\n",
    "    abs_frequency, edges = abs_frqcy(intervals, data)\n",
    "    mindpoints = mindpoint(edges)\n",
    "    xf = mindpoints_by_f(mindpoints,abs_frequency)\n",
    "    rel_frequency = rel_frqcy(abs_frequency,data.size)\n",
    "    cum_frequnecy = cum_frqcy(abs_frequency)\n",
    "    print_frqcy_table(edges,mindpoints,xf, abs_frequency,rel_frequency,cum_frequnecy)"
   ]
  },
  {
   "cell_type": "code",
   "execution_count": 93,
   "metadata": {},
   "outputs": [
    {
     "name": "stdout",
     "output_type": "stream",
     "text": [
      "INTERVAL                               x                  f          xf         fr              F         \n",
      "----------------------------------------------------------------------------------------------------\n",
      "[1.05, 1.60)                           1.325              6          7.95       0.1091          6         \n",
      "[1.60, 2.15)                           1.875              2          3.75       0.0364          8         \n",
      "[2.15, 2.70)                           2.425              10         24.25      0.1818          18        \n",
      "[2.70, 3.25)                           2.975              8          23.80      0.1455          26        \n",
      "[3.25, 3.80)                           3.525              9          31.72      0.1636          35        \n",
      "[3.80, 4.35)                           4.075              12         48.90      0.2182          47        \n",
      "[4.35, 4.90)                           4.625              8          37.00      0.1455          55        \n"
     ]
    }
   ],
   "source": [
    "get_frequency_table(notes)"
   ]
  },
  {
   "cell_type": "code",
   "execution_count": 38,
   "metadata": {},
   "outputs": [],
   "source": [
    "import matplotlib.pyplot as plt\n",
    "import seaborn as sns\n",
    "def plot_distribution(data:np.array, median, mean) -> None:\n",
    "    # create canva\n",
    "    plt.figure(figsize=(8, 5))\n",
    "    sns.histplot(data, kde=True, bins=10, color=\"royalblue\", alpha=0.6)\n",
    "\n",
    "    # Add lines to median and mean\n",
    "    plt.axvline(mean, color='red', linestyle='dashed', linewidth=2, label=f\"Mean: {mean:.2f}\")\n",
    "    plt.axvline(median, color='green', linestyle='dashed', linewidth=2, label=f\"Median: {median:.2f}\")\n",
    "\n",
    "    # Add labels and title\n",
    "    plt.xlabel(\"Values\")\n",
    "    plt.ylabel(\"Frequency\")\n",
    "    plt.title(\"Data distrubution\")\n",
    "    plt.legend()\n",
    "\n",
    "    plt.show()"
   ]
  },
  {
   "cell_type": "code",
   "execution_count": 40,
   "metadata": {},
   "outputs": [
    {
     "name": "stdout",
     "output_type": "stream",
     "text": [
      "Mean: 3.232\n",
      "Median: 3.36\n",
      "Modes: [3.81 4.12 4.16 4.9 ]\n"
     ]
    }
   ],
   "source": [
    "print(f'Mean: {notes_mean}\\nMedian: {notes_median}\\nModes: {notes_mode}')"
   ]
  },
  {
   "cell_type": "code",
   "execution_count": 42,
   "metadata": {},
   "outputs": [
    {
     "data": {
      "image/png": "[encoded data removed]",
      "text/plain": [
       "<Figure size 800x500 with 1 Axes>"
      ]
     },
     "metadata": {},
     "output_type": "display_data"
    }
   ],
   "source": [
    "plot_distribution(notes, notes_median, notes_mean)"
   ]
  },
  {
   "cell_type": "code",
   "execution_count": 29,
   "metadata": {},
   "outputs": [
    {
     "name": "stdout",
     "output_type": "stream",
     "text": [
      "Skewness: -0.3818\n"
     ]
    }
   ],
   "source": [
    "from scipy.stats import skew\n",
    "\n",
    "skewness = skew(notes)\n",
    "print(f\"Skewness: {skewness:.4f}\")"
   ]
  },
  {
   "cell_type": "markdown",
   "metadata": {},
   "source": [
    "- **Does the mean represent a typical exam score?**\n",
    "  - **ans**: The mean is slightly lower than the median and mode (3.232 vs. 3.36), suggesting a slight right skew (positively skewed distribution). \n",
    "- **Is the median close to the mean? What does this indicate?**  \n",
    "  - **ans**: The median is slightly upper than the mean, indicates a bias to the right, therefore it can be seen that most students scored above the Average grade. This can be translated, that more than 50% of the course understand the subject.\n",
    "- **Does the mode provide useful insights? Are students scoring similarly?**  .\n",
    "  - **ans**: Yes. We found 4 modes, its is a distribuition multimodal and this indicates, that the students scoring are closes and higher.\n",
    "- **Does the data suggest that some students perform significantly better or worse than others?** \n",
    "  - **ans**: The data suggest that more than 50% of get better perfom in their exams."
   ]
  }
 ],
 "metadata": {
  "kernelspec": {
   "display_name": "Python 3",
   "language": "python",
   "name": "python3"
  },
  "language_info": {
   "codemirror_mode": {
    "name": "ipython",
    "version": 3
   },
   "file_extension": ".py",
   "mimetype": "text/x-python",
   "name": "python",
   "nbconvert_exporter": "python",
   "pygments_lexer": "ipython3",
   "version": "3.12.6"
  }
 },
 "nbformat": 4,
 "nbformat_minor": 2
}
