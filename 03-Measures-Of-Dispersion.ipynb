{
 "cells": [
  {
   "cell_type": "markdown",
   "metadata": {},
   "source": [
    "## **Exercise: Measures of Central Tendency and Dispersion**\n",
    "\n",
    "**Objective:** Apply measures of central tendency **(mean, median, and mode)** to analyze student performance in an exam.\n",
    "\n",
    "### **📊 Dataset 1: Ages Analysis** \n",
    "\n",
    "#### **🔹 Task 1: Collect the Data**\n",
    "We will analyze a dataset containing the ages of a group of people:\n",
    "\n",
    "```\n",
    "    13, 12, 14, 10, 12, 16, 16, 16, 15, 19, 18, 17, 18, 18,\n",
    "     21, 24, 21, 23, 23, 20, 21, 23, 24, 24, 24, 21, 27, 25, \n",
    "     29, 26, 28, 29, 25, 26, 28, 27, 27, 26, 27, 26, 28, 30,\n",
    "     32, 34, 30, 30, 33, 32, 31, 31, 32, 30, 36, 38, 38, 39,\n",
    "     36, 36, 36, 40\n",
    "```"
   ]
  },
  {
   "cell_type": "code",
   "execution_count": 150,
   "metadata": {},
   "outputs": [],
   "source": [
    "import numpy as np\n",
    "import matplotlib.pyplot as plt"
   ]
  },
  {
   "cell_type": "code",
   "execution_count": 151,
   "metadata": {},
   "outputs": [],
   "source": [
    "ages = np.array(\n",
    "    [13, 12, 14, 10, 12, 16, 16, 16, 15, 19, 18, 17, 18, 18,\n",
    "     21, 24, 21, 23, 23, 20, 21, 23, 24, 24, 24, 21, 27, 25, \n",
    "     29, 26, 28, 29, 25, 26, 28, 27, 27, 26, 27, 26, 28, 30,\n",
    "     32, 34, 30, 30, 33, 32, 31, 31, 32, 30, 36, 38, 38, 39,\n",
    "     36, 36, 36, 40\n",
    "    ]\n",
    ")"
   ]
  },
  {
   "cell_type": "markdown",
   "metadata": {},
   "source": [
    "#### **🔹 Task 2: Measures of Central Tendency**  \n",
    " **Calculate the mean, median, and mode of the ages.**  \n",
    "   - Which of these measures best represents the data?  \n",
    "   - What does the mode indicate about the most common age?  "
   ]
  },
  {
   "cell_type": "code",
   "execution_count": 152,
   "metadata": {},
   "outputs": [],
   "source": [
    "def mean(arr:np.array) -> np.float64:\n",
    "    return np.round(arr.sum() / arr.size,3)"
   ]
  },
  {
   "cell_type": "code",
   "execution_count": 153,
   "metadata": {},
   "outputs": [],
   "source": [
    "def median(arr:np.array) -> np.float64:\n",
    "    arr.sort()\n",
    "    length = arr.size\n",
    "    isOdd = length % 2 != 0\n",
    "    med = np.mean([arr[length // 2 - 1],arr[length // 2]]) if not isOdd else arr[length // 2]\n",
    "    return med"
   ]
  },
  {
   "cell_type": "code",
   "execution_count": 171,
   "metadata": {},
   "outputs": [],
   "source": [
    "def mode(arr:np.array) -> np.array:\n",
    "    values, counts = np.unique(arr, return_counts=True)\n",
    "    return values[counts == np.max(counts)], counts[counts == np.max(counts)]"
   ]
  },
  {
   "cell_type": "code",
   "execution_count": 155,
   "metadata": {},
   "outputs": [
    {
     "name": "stdout",
     "output_type": "stream",
     "text": [
      "Mean: 25.517\n",
      "Median: 26.0\n",
      "Modes: [21 24 26 27 30 36]\n"
     ]
    }
   ],
   "source": [
    "ages_mean = mean(ages)\n",
    "ages_median = median(ages)\n",
    "age_mod_values,_ = mode(ages)\n",
    "print(f'Mean: {ages_mean}\\nMedian: {ages_median}\\nModes: {age_mod_values}')"
   ]
  },
  {
   "cell_type": "markdown",
   "metadata": {},
   "source": [
    "- Which of these measures best represents the data? \n",
    "  - **ans**: All measures are important. But the `mean` and `median` represent the main starting point to know how dispersed the data are.\n",
    "- What does the mode indicate about the most common age? \n",
    "  - **ans**: There are 6 `modes` this represent results `multimodal`."
   ]
  },
  {
   "cell_type": "markdown",
   "metadata": {},
   "source": [
    "#### **🔹 Task 3: Frequency Table**  \n",
    "**Create a frequency table by grouping the data into intervals.**  \n",
    "   - Which interval has the highest frequency?  "
   ]
  },
  {
   "cell_type": "code",
   "execution_count": 172,
   "metadata": {},
   "outputs": [],
   "source": [
    "import numpy as np\n",
    "\n",
    "class FrequencyTable:\n",
    "    def __init__(self, data: np.array):\n",
    "        self.data = data\n",
    "        self.min_value = np.min(data)\n",
    "        self.max_value = np.max(data)\n",
    "        self.range = self.max_value - self.min_value\n",
    "        self.k = self.sturgers_distribution(len(data))\n",
    "        self.amplitude = np.ceil(self.range / self.k)\n",
    "        self.intervals = self.get_intervals()\n",
    "        self.abs_frequency, self.edges = self.calculate_absolute_frequency()\n",
    "        self.mindpoints = self.calculate_midpoints()\n",
    "        self.xf = self.mindpoints * self.abs_frequency\n",
    "        self.rel_frequency = self.abs_frequency / len(data)\n",
    "        self.cum_frequency = np.cumsum(self.abs_frequency)\n",
    "        self.mean = np.mean(data)\n",
    "        self.median = np.median(data)\n",
    "        self.mode = mode(data)\n",
    "        self.variance = np.var(data)\n",
    "        self.std_dev = np.sqrt(self.variance)\n",
    "\n",
    "    def sturgers_distribution(self, total_data: int) -> int:\n",
    "        k = 1 + np.log2(total_data)\n",
    "        return np.ceil(k) if int(k) % 2 == 0 else np.floor(k)\n",
    "\n",
    "    def get_intervals(self) -> np.array:\n",
    "        intervals = np.arange(self.min_value, self.max_value, self.amplitude)\n",
    "        return np.append(intervals, self.max_value)\n",
    "\n",
    "    def calculate_absolute_frequency(self):\n",
    "        return np.histogram(self.data, bins=self.intervals)\n",
    "\n",
    "    def calculate_midpoints(self) -> np.array:\n",
    "        return np.array([(self.edges[i] + self.edges[i + 1]) / 2 for i in range(len(self.edges) - 1)])\n",
    "\n",
    "    def print_table(self):\n",
    "        print(f\"{'Interval':<25}{'Midpoint':<10}{'f':<10}{'xf':<10}{'fr':<10}{'F':<10}\")\n",
    "        print(\"=\" * 85)\n",
    "        for i in range(len(self.edges) - 1):\n",
    "            print(f\"[{self.edges[i]:.2f}, {self.edges[i+1]:.2f})\".ljust(25) +\n",
    "                  f\"{self.mindpoints[i]:<10.2f}{self.abs_frequency[i]:<10}\" +\n",
    "                  f\"{self.xf[i]:<10.2f}{self.rel_frequency[i]:<10.3f}{self.cum_frequency[i]:<10}\")\n",
    "\n",
    "    def summary(self):\n",
    "        print(f\"\\n **Summary Statistics**\")\n",
    "        print(f\"Mean: {self.mean:.2f}, Median: {self.median:.2f}, Mode: {self.mode}\")\n",
    "        print(f\"Variance: {self.variance:.2f}, Std Dev: {self.std_dev:.2f}\")\n",
    "        print(f\"Total Intervals: {int(self.k)}, Amplitude: {self.amplitude:.2f}\")"
   ]
  },
  {
   "cell_type": "code",
   "execution_count": 173,
   "metadata": {},
   "outputs": [
    {
     "name": "stdout",
     "output_type": "stream",
     "text": [
      "Interval                 Midpoint  f         xf        fr        F         \n",
      "=====================================================================================\n",
      "[10.00, 15.00)           12.50     5         62.50     0.083     5         \n",
      "[15.00, 20.00)           17.50     9         157.50    0.150     14        \n",
      "[20.00, 25.00)           22.50     12        270.00    0.200     26        \n",
      "[25.00, 30.00)           27.50     15        412.50    0.250     41        \n",
      "[30.00, 35.00)           32.50     11        357.50    0.183     52        \n",
      "[35.00, 40.00)           37.50     8         300.00    0.133     60        \n",
      "\n",
      " **Summary Statistics**\n",
      "Mean: 25.52, Median: 26.00, Mode: (array([21, 24, 26, 27, 30, 36]), array([4, 4, 4, 4, 4, 4]))\n",
      "Variance: 54.88, Std Dev: 7.41\n",
      "Total Intervals: 7, Amplitude: 5.00\n"
     ]
    }
   ],
   "source": [
    "age_table = FrequencyTable(ages)\n",
    "age_table.print_table()\n",
    "age_table.summary()"
   ]
  },
  {
   "cell_type": "markdown",
   "metadata": {},
   "source": [
    "- Which interval has the highest frequency?\n",
    "  - **ans**: The interval **4**, `[25.00, 30.00)`. Here is are concentrated the `median`. So, this indicates que almost the 50 percent of ages, is less than or equal to `26`."
   ]
  },
  {
   "cell_type": "markdown",
   "metadata": {},
   "source": [
    "#### **🔹 Task 4: Measures of Dispersion**  \n",
    "**Calculate the range, variance, and standard derivation.**  \n",
    "   - Are the data widely spread out or concentrated?  \n",
    "   - If the variance is high, what does it mean in terms of age? "
   ]
  },
  {
   "cell_type": "code",
   "execution_count": 175,
   "metadata": {},
   "outputs": [
    {
     "name": "stdout",
     "output_type": "stream",
     "text": [
      "#### DISPERSION MEASUREMENTS #####\n",
      "Range: 30\n",
      "Variance: 54.88305555555556\n",
      "Standard Derivation: 7.40830989872559\n",
      "Coefficient of variation: 29.032840454307284\n"
     ]
    }
   ],
   "source": [
    "range = np.ptp(ages)\n",
    "variance = np.var(ages)\n",
    "standard_derivation = np.std(ages)\n",
    "cv = (standard_derivation / ages_mean) * 100\n",
    "print('#### DISPERSION MEASUREMENTS #####')\n",
    "print(f'Range: {range}\\nVariance: {variance}\\nStandard Derivation: {standard_derivation}\\nCoefficient of variation: {cv}')"
   ]
  },
  {
   "cell_type": "markdown",
   "metadata": {},
   "source": [
    "- Are the data widely spread out or concentrated?\n",
    "  - **ans**: The data show that the **CV** are *29%* this indicates moderate variability.\n",
    "- If the variance is high, what does it mean in terms of age? \n",
    "  - **ans**: A moderate variance means there is some diversity in ages, but they are not extremely differente from the mean.\n",
    "\n",
    "---"
   ]
  },
  {
   "cell_type": "markdown",
   "metadata": {},
   "source": [
    "### **📊 Dataset 2: Weights Analysis**  \n",
    "📌 **Description:** We will analyze a dataset containing the weights (kg) of a group of people.\n",
    "\n",
    "```md\n",
    "    66.53, 50.98, 63.42, 98.16, 95.43, 43.31, 36.32, 80.75, 94.39,\n",
    "    39.77, 78.47, 51.37, 72.91, 56.4, 75.45, 46.06, 59.53, 61.14,\n",
    "    80.28, 93.24, 75.14, 57.01, 38.58, 68.55, 64.42, 48.66, 53.27,\n",
    "    39.38, 56.1, 38.45, 65.69, 99.24, 83.3, 62.37, 85.76, 56.31,\n",
    "    72.34, 81.63, 47.07, 73.54, 42.61, 82.61, 36.79, 36.25, 87.61,\n",
    "    59.82, 49.96, 67.66, 62.18, 95.53\n",
    "```\n",
    "\n",
    "#### **🔹 Task 1: Descriptive Statistics**  \n",
    "**Calculate the mean, median, and mode of the weights.**  \n",
    "   - Which of these measures best represents the data?  \n",
    "   - Does the distribution appear symmetrical or skewed?  "
   ]
  },
  {
   "cell_type": "code",
   "execution_count": 183,
   "metadata": {},
   "outputs": [],
   "source": [
    "weights = np.array([66.53, 50.98, 63.42, 98.16, 95.43, 43.31, 36.32, 80.75, 94.39,\n",
    "       39.77, 78.47, 51.37, 72.91, 56.4 , 75.45, 46.06, 59.53, 61.14,\n",
    "       80.28, 93.24, 75.14, 57.01, 38.58, 68.55, 64.42, 48.66, 53.27,\n",
    "       39.38, 56.1 , 38.45, 65.69, 99.24, 83.3 , 62.37, 85.76, 56.31,\n",
    "       72.34, 81.63, 47.07, 73.54, 42.61, 82.61, 36.79, 36.25, 87.61,\n",
    "       59.82, 49.96, 67.66, 62.18, 95.53])"
   ]
  },
  {
   "cell_type": "code",
   "execution_count": 179,
   "metadata": {},
   "outputs": [
    {
     "name": "stdout",
     "output_type": "stream",
     "text": [
      "Mean: 64.635\n",
      "Median: 62.894999999999996\n",
      "Modes: [36.25 36.32 36.79 38.45 38.58 39.38 39.77 42.61 43.31 46.06 47.07 48.66\n",
      " 49.96 50.98 51.37 53.27 56.1  56.31 56.4  57.01 59.53 59.82 61.14 62.18\n",
      " 62.37 63.42 64.42 65.69 66.53 67.66 68.55 72.34 72.91 73.54 75.14 75.45\n",
      " 78.47 80.28 80.75 81.63 82.61 83.3  85.76 87.61 93.24 94.39 95.43 95.53\n",
      " 98.16 99.24]\n"
     ]
    }
   ],
   "source": [
    "weights_mean = mean(weights)\n",
    "weights_median = median(weights)\n",
    "weights_mod_values,_ = mode(weights)\n",
    "print(f'Mean: {weights_mean}\\nMedian: {weights_median}\\nModes: {weights_mod_values}')"
   ]
  },
  {
   "cell_type": "code",
   "execution_count": 185,
   "metadata": {},
   "outputs": [],
   "source": [
    "# Mean: 65.2294\n",
    "# Variance: 317.61417864000003\n",
    "# INTERVAL                       x                  f             xf            (x-X̄)^2      (x-X̄)^2 * f       fr             F         \n",
    "# ----------------------------------------------------------------------------------------------------------------------------------\n",
    "# [36.25, 45.25)                 40.75              9             366.75        599.24        5393.17         0.180           9         \n",
    "# [45.25, 54.25)                 49.75              7             348.25        239.61        1677.28         0.140           16        \n",
    "# [54.25, 63.25)                 58.75              9             528.75        41.98         377.84          0.180           25        \n",
    "# [63.25, 72.25)                 67.75              6             406.50        6.35          38.12           0.120           31        \n",
    "# [72.25, 81.25)                 76.75              8             614.00        132.72        1061.79         0.160           39        \n",
    "# [81.25, 90.25)                 85.75              5             428.75        421.10        2105.48         0.100           44        \n",
    "# [90.25, 99.24)                 94.75              6             568.47        871.17        5227.02         0.120           50        "
   ]
  },
  {
   "cell_type": "markdown",
   "metadata": {},
   "source": [
    "- Which of these measures best represents the data?\n",
    "  - **ans**: The **median 62.89** is likely the best representation because it is less affected by extreme values (outliers). The mean **64.64** is slightly higher, which suggests that some higher values might be pulling it up.\n",
    "- Does the distribution appear symmetrical or skewed?  \n",
    "  - **ans**: The **mean > median**, the distributions appears to have a **positive skewed**"
   ]
  },
  {
   "cell_type": "code",
   "execution_count": 186,
   "metadata": {},
   "outputs": [
    {
     "name": "stdout",
     "output_type": "stream",
     "text": [
      "CV: 0.18842404093416057\n"
     ]
    }
   ],
   "source": [
    "from scipy.stats import skew\n",
    "skewness = skew(weights)\n",
    "\n",
    "print(f\"CV: {skewness}\")"
   ]
  },
  {
   "cell_type": "markdown",
   "metadata": {},
   "source": [
    "#### **🔹 Task 2: Variability Analysis**  \n",
    "2️⃣ **Calculate the coefficient of variation (CV).**  \n",
    "   - Does the CV indicate high variability in the weights?  \n",
    "\n",
    "📌 **Formula:**  \n",
    "\\[\n",
    "CV = $\\left( \\frac{\\text{Standard Deviation}}{\\text{Mean}} \\right) \\times 100$\n",
    "\\]"
   ]
  },
  {
   "cell_type": "code",
   "execution_count": 180,
   "metadata": {},
   "outputs": [
    {
     "name": "stdout",
     "output_type": "stream",
     "text": [
      "#### DISPERSION MEASUREMENTS #####\n",
      "Range: 62.989999999999995\n",
      "Variance: 338.46007295999993\n",
      "Standard Derivation: 18.397284390909434\n",
      "Coefficient of variation: 28.463347088898328\n"
     ]
    }
   ],
   "source": [
    "range = np.ptp(weights)\n",
    "variance = np.var(weights)\n",
    "standard_derivation = np.std(weights)\n",
    "cv = (standard_derivation / weights_mean) * 100\n",
    "print('#### DISPERSION MEASUREMENTS #####')\n",
    "print(f'Range: {range}\\nVariance: {variance}\\nStandard Derivation: {standard_derivation}\\nCoefficient of variation: {cv}')"
   ]
  },
  {
   "cell_type": "markdown",
   "metadata": {},
   "source": [
    "- Does the CV indicate high variability in the weights? \n",
    "  - **ans**: The CV is less to *30%*, this indicates moderate variability"
   ]
  },
  {
   "cell_type": "markdown",
   "metadata": {},
   "source": [
    "#### **🎯 Final Thoughts: Analysis and Conclusions**  \n",
    "📌 After completing both analyses, answer:  \n",
    "- Which dataset shows greater dispersion and variability?  \n",
    "  - **ans**: The weight dataset has a much **higher variance (338.46 vs. 54.88)** and **higher standard deviation (18.40 vs. 7.41)**, meaning weights are more widely spread. \n",
    "- What differences exist between the age and weight distributions?\n",
    "  - **ans**: The **age distribution may be more clustered**, while weights are more **evenly spread** across a wider range.  \n",
    "  - **Weights have a larger spread (range = 62.99 vs. 30 for ages)**, indicating more variability in weight values.  \n",
    "- Which statistical measures were the most useful in each case? \n",
    "  - **ans**: **Variance and standard deviation** were useful in determining the absolute spread.\n",
    "    -  **Coefficient of variation (CV)** was important to compare relative dispersion, since ages and weights have different units."
   ]
  }
 ],
 "metadata": {
  "kernelspec": {
   "display_name": "Python 3",
   "language": "python",
   "name": "python3"
  },
  "language_info": {
   "codemirror_mode": {
    "name": "ipython",
    "version": 3
   },
   "file_extension": ".py",
   "mimetype": "text/x-python",
   "name": "python",
   "nbconvert_exporter": "python",
   "pygments_lexer": "ipython3",
   "version": "3.12.6"
  }
 },
 "nbformat": 4,
 "nbformat_minor": 2
}
