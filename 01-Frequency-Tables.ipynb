{
 "cells": [
  {
   "cell_type": "markdown",
   "metadata": {},
   "source": [
    "### **Exercise: Monthly Income Analysis**\n",
    "\n",
    "**Objective:** The objective of this exercise is to apply descriptive statistics concepts to analyze a sample of monthly incomes in a community.\n",
    "\n",
    "#### **Step 1: Collect the Data**\n",
    "Imagine you have the following monthly incomes (in COP) from a sample of 100 people in a community:\n",
    "\n",
    "```\n",
    "       11654950.29,  9971081.28, 11273992.69,  2861346.03,  2582670.88,\n",
    "       11888504.48,  8726121.58, 10837270.77, 11470281.3 ,  8557203.55,\n",
    "        4635899.65, 11043709.38,  6349800.38,  4323161.56,  3048335.62,\n",
    "        2412571.86,  1745902.92,  1988633.44, 10964236.12, 12014430.89,\n",
    "        3183807.08,  9839627.91,  2429435.56,  6452005.39,  4036398.71,\n",
    "        3717501.87,  3984322.57,  3337302.79,  6436620.64,  9513158.72,\n",
    "       10283633.29,  6411711.02,  3302846.9 , 11912103.19,  8552094.72,\n",
    "       12514545.83,  1936603.14,  8971357.23, 10041493.07,  2172989.33,\n",
    "        5368011.25,  4771829.24,  7285612.35,  3051332.98,  7813967.81,\n",
    "        6644630.33,  5758413.61,  8154393.07,  2447156.32, 11752212.91,\n",
    "        8074621.85, 12531034.79,  4126223.82,  1720036.97,  8671911.18,\n",
    "        6887645.18, 11228313.28,  6703808.44,  7575595.72,  6285031.13,\n",
    "        3945769.93,  8065980.29,  5007651.63, 10361360.83,  9436583.01,\n",
    "        2728355.7 , 11611662.56,  7842398.44,  6523517.23,  3761886.42,\n",
    "        1910856.57,  6841450.36,  9624154.66, 12081254.77, 11474200.07,\n",
    "        3816361.55,  2968327.21, 12279056.33, 12495371.15,  6325754.98,\n",
    "        4447851.82,  3291363.82,  8961625.08,  7413539.25,  2234083.16,\n",
    "        7869924.71,  5888912.51,  8455810.07,  6035226.29,  7625690.51,\n",
    "        9550061.14,  8954896.71,  7011638.4 ,  7257551.94,  4147618.45,\n",
    "        8814156.85, 12234370.52,  3787806.12,  8139101.68,  2845207.64\n",
    "```"
   ]
  },
  {
   "cell_type": "code",
   "execution_count": 1,
   "metadata": {},
   "outputs": [],
   "source": [
    "import math\n",
    "import numpy as np # type: ignore"
   ]
  },
  {
   "cell_type": "code",
   "execution_count": 2,
   "metadata": {},
   "outputs": [],
   "source": [
    "# read the data to numpy array\n",
    "monthly_incomes = np.array([11654950.29,  9971081.28, 11273992.69,  2861346.03,  2582670.88,\n",
    " 11888504.48,  8726121.58, 10837270.77, 11470281.3 ,  8557203.55,\n",
    "  4635899.65, 11043709.38,  6349800.38,  4323161.56,  3048335.62,\n",
    "  2412571.86,  1745902.92,  1988633.44, 10964236.12, 12014430.89,\n",
    "  3183807.08,  9839627.91,  2429435.56,  6452005.39,  4036398.71,\n",
    "  3717501.87,  3984322.57,  3337302.79,  6436620.64,  9513158.72,\n",
    " 10283633.29,  6411711.02,  3302846.9 , 11912103.19,  8552094.72,\n",
    " 12514545.83,  1936603.14,  8971357.23, 10041493.07,  2172989.33,\n",
    "  5368011.25,  4771829.24,  7285612.35,  3051332.98,  7813967.81,\n",
    "  6644630.33,  5758413.61,  8154393.07,  2447156.32, 11752212.91,\n",
    "  8074621.85, 12531034.79,  4126223.82,  1720036.97,  8671911.18,\n",
    "  6887645.18, 11228313.28,  6703808.44,  7575595.72,  6285031.13,\n",
    "  3945769.93,  8065980.29,  5007651.63, 10361360.83,  9436583.01,\n",
    "  2728355.7 , 11611662.56,  7842398.44,  6523517.23,  3761886.42,\n",
    "  1910856.57,  6841450.36,  9624154.66, 12081254.77, 11474200.07,\n",
    "  3816361.55,  2968327.21, 12279056.33, 12495371.15,  6325754.98,\n",
    "  4447851.82,  3291363.82,  8961625.08,  7413539.25,  2234083.16,\n",
    "  7869924.71,  5888912.51,  8455810.07,  6035226.29,  7625690.51,\n",
    "  9550061.14,  8954896.71,  7011638.4 ,  7257551.94,  4147618.45,\n",
    "  8814156.85, 12234370.52,  3787806.12,  8139101.68,  2845207.64])"
   ]
  },
  {
   "cell_type": "code",
   "execution_count": 3,
   "metadata": {},
   "outputs": [
    {
     "data": {
      "text/plain": [
       "100"
      ]
     },
     "execution_count": 3,
     "metadata": {},
     "output_type": "execute_result"
    }
   ],
   "source": [
    "monthly_incomes.size"
   ]
  },
  {
   "cell_type": "code",
   "execution_count": 4,
   "metadata": {},
   "outputs": [
    {
     "name": "stdout",
     "output_type": "stream",
     "text": [
      "<class 'int'>\n"
     ]
    }
   ],
   "source": [
    "print(monthly_incomes.size.__class__)"
   ]
  },
  {
   "cell_type": "markdown",
   "metadata": {},
   "source": [
    "#### **Step 2: Determine the Range of the Data**\n",
    "Use the **range** to understand the spread of incomes in the sample."
   ]
  },
  {
   "cell_type": "code",
   "execution_count": 5,
   "metadata": {},
   "outputs": [
    {
     "name": "stdout",
     "output_type": "stream",
     "text": [
      "Max value: 12531034.79\n",
      "Min value: 1720036.97\n",
      "Range: 10810997.819999998\n"
     ]
    }
   ],
   "source": [
    "max_value = monthly_incomes.max()\n",
    "min_value = monthly_incomes.min()\n",
    "R = max_value - min_value\n",
    "print(f'Max value: {max_value}\\nMin value: {min_value}\\nRange: {R}')"
   ]
  },
  {
   "cell_type": "markdown",
   "metadata": {},
   "source": [
    "#### **Step 3: Create the Intervals**\n",
    "Using the **range** and the **number of classes (intervals)**, divide the data into intervals. Use **Sturges' rule** to determine the number of classes:\n"
   ]
  },
  {
   "cell_type": "code",
   "execution_count": 6,
   "metadata": {},
   "outputs": [],
   "source": [
    "def sturgers_distribution(total_data:int)->int:\n",
    "    k = 1 + 3.322 * np.log10(total_data)\n",
    "    if int(k) % 2 == 0:\n",
    "        k =  math.ceil(k)\n",
    "    else:\n",
    "        k = math.floor(k)\n",
    "    return k"
   ]
  },
  {
   "cell_type": "code",
   "execution_count": 7,
   "metadata": {},
   "outputs": [
    {
     "name": "stdout",
     "output_type": "stream",
     "text": [
      "Number of classes: 7\n"
     ]
    }
   ],
   "source": [
    "k = sturgers_distribution(monthly_incomes.size)\n",
    "print(f'Number of classes: {k}')"
   ]
  },
  {
   "cell_type": "markdown",
   "metadata": {},
   "source": [
    "#### **Step 4: Calculate the Frequencies**\n",
    "Once you've created the intervals, create amplitude and count how many data points fall within each interval."
   ]
  },
  {
   "cell_type": "code",
   "execution_count": 8,
   "metadata": {},
   "outputs": [],
   "source": [
    "# amplitude = Range / Classess\n",
    "a = R / k"
   ]
  },
  {
   "cell_type": "code",
   "execution_count": 9,
   "metadata": {},
   "outputs": [],
   "source": [
    "def get_intervals_manually(a, k, min_value, max_value) -> np.array:\n",
    "    bins = 0\n",
    "    intervals = []\n",
    "    for i in range(k):\n",
    "        if i == 0:\n",
    "            bins += min_value\n",
    "        else:\n",
    "            bins += a\n",
    "        intervals.append(bins)\n",
    "    intervals.append(max_value)\n",
    "    return np.array(intervals)"
   ]
  },
  {
   "cell_type": "code",
   "execution_count": 10,
   "metadata": {},
   "outputs": [],
   "source": [
    "def get_intervals_numpy(min_value, max_value, amplitude) -> np.array:\n",
    "    intervals = np.arange(min_value, max_value, amplitude)\n",
    "    return np.append(intervals, max_value)"
   ]
  },
  {
   "cell_type": "code",
   "execution_count": 11,
   "metadata": {},
   "outputs": [
    {
     "name": "stdout",
     "output_type": "stream",
     "text": [
      "[ 1720036.97  3264465.23  4808893.49  6353321.75  7897750.01  9442178.27\n",
      " 10986606.53 12531034.79]\n",
      "[ 1720036.97  3264465.23  4808893.49  6353321.75  7897750.01  9442178.27\n",
      " 10986606.53 12531034.79]\n"
     ]
    }
   ],
   "source": [
    "print(get_intervals_manually(a, k, min_value, max_value))\n",
    "intervals = get_intervals_numpy(min_value, max_value, a)\n",
    "print(intervals)"
   ]
  },
  {
   "cell_type": "markdown",
   "metadata": {},
   "source": [
    "#### **Step 5: Build the Frequency Table**\n",
    "Construct the frequency table, which should include:\n",
    "\n",
    "- The intervals.\n",
    "- The absolute frequency.\n",
    "- The relative frequency.\n",
    "- The cumulative frequency.\n",
    "\n",
    "Example table:\n",
    "\n",
    "| Interval  | Absolute Frequency | Relative Frequency | Cumulative Frequency |\n",
    "|-----------|--------------------|--------------------|----------------------|\n",
    "| 1500-2000 | 6                  | 0.30               | 6                    |\n",
    "| 2001-2500 | 7                  | 0.35               | 13                   |\n",
    "| 2501-3000 | 5                  | 0.25               | 18                   |\n",
    "| 3001-3500 | 2                  | 0.10               | 20                   |"
   ]
  },
  {
   "cell_type": "code",
   "execution_count": 32,
   "metadata": {},
   "outputs": [],
   "source": [
    "def abs_frqcy(intervals:np.array, data:np.array):\n",
    "    ocurrencies, edges = np.histogram(data, bins=intervals)\n",
    "    return ocurrencies, edges"
   ]
  },
  {
   "cell_type": "code",
   "execution_count": 33,
   "metadata": {},
   "outputs": [],
   "source": [
    "def mindpoint(edges) -> np.array:\n",
    "    return np.array([np.mean([edges[i], edges[i + 1]]) for i in range(edges.size - 1)])"
   ]
  },
  {
   "cell_type": "code",
   "execution_count": 34,
   "metadata": {},
   "outputs": [],
   "source": [
    "def rel_frqcy(abs_frequency:np.array, total_data:int) -> np.array:\n",
    "    return abs_frequency / total_data"
   ]
  },
  {
   "cell_type": "code",
   "execution_count": 35,
   "metadata": {},
   "outputs": [],
   "source": [
    "def cum_frqcy(abs_frequency:np.array) -> np.array:\n",
    "    return np.cumsum(abs_frequency)"
   ]
  },
  {
   "cell_type": "code",
   "execution_count": 78,
   "metadata": {},
   "outputs": [],
   "source": [
    "def print_frqcy_table(edges, mindpoints, abs_frequency, rel_frequency, cum_frequency):\n",
    "    # Definir encabezados con mayor separación\n",
    "    print(\"{:<38} {:<18} {:<10} {:<15} {:<10}\".format(\"INTERVAL\", \"X\", \"f\", \"fr\", \"F\"))\n",
    "    print(\"-\" * 90)  # Separador más ancho\n",
    "    \n",
    "    for i in range(edges.size - 1):\n",
    "        bins = f\"[{edges[i]:.2f}, {edges[i+1]:.2f})\"  # Formato de intervalo\n",
    "        print(\"{:<38} {:<18.2f} {:<10} {:<15.4f} {:<10}\".format(\n",
    "            bins, mindpoints[i], abs_frequency[i], rel_frequency[i], cum_frequency[i]\n",
    "        ))"
   ]
  },
  {
   "cell_type": "code",
   "execution_count": 59,
   "metadata": {},
   "outputs": [],
   "source": [
    "abs_frequency, edges = abs_frqcy(intervals, monthly_incomes)\n",
    "mindpoints = mindpoint(edges)\n",
    "rel_frequency = rel_frqcy(abs_frequency,monthly_incomes.size)\n",
    "cum_frequnecy = cum_frqcy(abs_frequency)"
   ]
  },
  {
   "cell_type": "code",
   "execution_count": 79,
   "metadata": {},
   "outputs": [
    {
     "name": "stdout",
     "output_type": "stream",
     "text": [
      "INTERVAL                               X                  f          fr              F         \n",
      "------------------------------------------------------------------------------------------\n",
      "[1720036.97, 3264465.23)               2492251.10         18         0.1800          18        \n",
      "[3264465.23, 4808893.49)               4036679.36         16         0.1600          34        \n",
      "[4808893.49, 6353321.75)               5581107.62         8          0.0800          42        \n",
      "[6353321.75, 7897750.01)               7125535.88         17         0.1700          59        \n",
      "[7897750.01, 9442178.27)               8669964.14         14         0.1400          73        \n",
      "[9442178.27, 10986606.53)              10214392.40        10         0.1000          83        \n",
      "[10986606.53, 12531034.79)             11758820.66        17         0.1700          100       \n"
     ]
    }
   ],
   "source": [
    "print_frqcy_table(edges,mindpoints,abs_frequency,rel_frequency,cum_frequnecy)"
   ]
  },
  {
   "cell_type": "markdown",
   "metadata": {},
   "source": [
    "#### **Step 7: Distribution Analysis**\n",
    "Analyze the data distribution:\n",
    "\n",
    "- Where do the incomes tend to cluster?\n",
    "- Is there any trend in the incomes?"
   ]
  },
  {
   "cell_type": "markdown",
   "metadata": {},
   "source": [
    "#### Where do the incomes tend to Cluster?\n",
    "\n",
    "The analysis show, that the data tend to cluster in the first interval **[1720036.97, 3264465.23)**, the middle **[6353321.75, 7897750.01)** and the last range **[10986606.53, 12531034.79)**.\n",
    "\n",
    "#### Is there any trend in the incomes?\n",
    "\n",
    "The data suggests a polarized income distribution, with more individuals earning at the lower and upper extremes.\n"
   ]
  }
 ],
 "metadata": {
  "kernelspec": {
   "display_name": "Python 3",
   "language": "python",
   "name": "python3"
  },
  "language_info": {
   "codemirror_mode": {
    "name": "ipython",
    "version": 3
   },
   "file_extension": ".py",
   "mimetype": "text/x-python",
   "name": "python",
   "nbconvert_exporter": "python",
   "pygments_lexer": "ipython3",
   "version": "3.12.6"
  }
 },
 "nbformat": 4,
 "nbformat_minor": 2
}
